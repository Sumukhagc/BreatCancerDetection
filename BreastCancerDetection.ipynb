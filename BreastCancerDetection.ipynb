{
 "cells": [
  {
   "cell_type": "code",
   "execution_count": null,
   "id": "302b2d96",
   "metadata": {},
   "outputs": [],
   "source": [
    "import pandas as pd\n",
    "import numpy as np\n",
    "import matplotlib.pyplot as plt\n",
    "import seaborn as sns"
   ]
  },
  {
   "cell_type": "code",
   "execution_count": null,
   "id": "6d021f3d",
   "metadata": {},
   "outputs": [],
   "source": [
    "df=pd.read_csv('breast_cancer.csv')"
   ]
  },
  {
   "cell_type": "code",
   "execution_count": null,
   "id": "dccd2782",
   "metadata": {},
   "outputs": [],
   "source": [
    "df.head()"
   ]
  },
  {
   "cell_type": "code",
   "execution_count": null,
   "id": "052f62f4",
   "metadata": {},
   "outputs": [],
   "source": [
    "df.shape"
   ]
  },
  {
   "cell_type": "code",
   "execution_count": null,
   "id": "acee8a18",
   "metadata": {},
   "outputs": [],
   "source": [
    "df.describe()"
   ]
  },
  {
   "cell_type": "code",
   "execution_count": null,
   "id": "d7baed42",
   "metadata": {},
   "outputs": [],
   "source": [
    "df.columns"
   ]
  },
  {
   "cell_type": "code",
   "execution_count": null,
   "id": "53274d03",
   "metadata": {},
   "outputs": [],
   "source": [
    "df.info()"
   ]
  },
  {
   "cell_type": "code",
   "execution_count": null,
   "id": "0ab5fd53",
   "metadata": {},
   "outputs": [],
   "source": [
    "columns_with_object_dtype=[col for col in df.columns if df[col].dtypes=='object']\n",
    "columns_with_object_dtype"
   ]
  },
  {
   "cell_type": "code",
   "execution_count": null,
   "id": "ab8f723a",
   "metadata": {},
   "outputs": [],
   "source": [
    "columns_with_null_value=[col for col in df.columns if df[col].isnull().sum()>0]\n",
    "columns_with_null_value"
   ]
  },
  {
   "cell_type": "markdown",
   "id": "fcea77e4",
   "metadata": {},
   "source": [
    "Column 'Unnamed: 32' has all values as null so we will drop that column"
   ]
  },
  {
   "cell_type": "code",
   "execution_count": null,
   "id": "9bb9af7b",
   "metadata": {},
   "outputs": [],
   "source": [
    "df.drop('Unnamed: 32',inplace=True,axis=1)\n"
   ]
  },
  {
   "cell_type": "code",
   "execution_count": null,
   "id": "8346ee8e",
   "metadata": {},
   "outputs": [],
   "source": [
    "##Categorical data\n",
    "columns_with_object_dtype"
   ]
  },
  {
   "cell_type": "code",
   "execution_count": null,
   "id": "0f5bfa0a",
   "metadata": {},
   "outputs": [],
   "source": [
    "##Treating the diagnosis column\n",
    "df['diagnosis'].value_counts()"
   ]
  },
  {
   "cell_type": "code",
   "execution_count": null,
   "id": "8bef125a",
   "metadata": {},
   "outputs": [],
   "source": [
    "df['diagnosis']=pd.get_dummies(df['diagnosis'],drop_first=True)"
   ]
  },
  {
   "cell_type": "code",
   "execution_count": null,
   "id": "6dedefb2",
   "metadata": {},
   "outputs": [],
   "source": [
    "df.head()"
   ]
  },
  {
   "cell_type": "code",
   "execution_count": null,
   "id": "cd78cc88",
   "metadata": {},
   "outputs": [],
   "source": [
    "sns.countplot(df['diagnosis'])"
   ]
  },
  {
   "cell_type": "code",
   "execution_count": null,
   "id": "fc30b3a7",
   "metadata": {},
   "outputs": [],
   "source": [
    "So it is not an imbalance dataset"
   ]
  },
  {
   "cell_type": "code",
   "execution_count": null,
   "id": "108812c5",
   "metadata": {},
   "outputs": [],
   "source": [
    "##Visualise the data\n",
    "sns.histplot(df['radius_mean'],kde=True)"
   ]
  },
  {
   "cell_type": "code",
   "execution_count": null,
   "id": "802df2fa",
   "metadata": {},
   "outputs": [],
   "source": [
    "sns.histplot(np.log(df['perimeter_mean']),kde=True)"
   ]
  },
  {
   "cell_type": "code",
   "execution_count": null,
   "id": "88c929c6",
   "metadata": {},
   "outputs": [],
   "source": [
    "sns.histplot(df['area_mean'],kde=True)"
   ]
  },
  {
   "cell_type": "code",
   "execution_count": null,
   "id": "d58c207d",
   "metadata": {},
   "outputs": [],
   "source": [
    "#Compactness mean after log transformation\n",
    "sns.histplot(np.log(df['compactness_mean']),kde=True)"
   ]
  },
  {
   "cell_type": "code",
   "execution_count": null,
   "id": "a452acf5",
   "metadata": {},
   "outputs": [],
   "source": [
    "X=df.drop('diagnosis',axis=1)\n",
    "Y=df['diagnosis']"
   ]
  },
  {
   "cell_type": "code",
   "execution_count": null,
   "id": "21616af5",
   "metadata": {},
   "outputs": [],
   "source": [
    "X.corrwith(Y).plot.bar(figsize=(12,6))"
   ]
  },
  {
   "cell_type": "markdown",
   "id": "8314e5b0",
   "metadata": {},
   "source": [
    "     Clearly id ,fractal_dimension_mean,texture_se,symmetry_se columns does not have correlation with the target variable so dropping those columns"
   ]
  },
  {
   "cell_type": "code",
   "execution_count": null,
   "id": "350719a8",
   "metadata": {},
   "outputs": [],
   "source": [
    "X.drop(['id' ,'fractal_dimension_mean','texture_se','symmetry_se'],inplace=True,axis=1)"
   ]
  },
  {
   "cell_type": "code",
   "execution_count": null,
   "id": "b6e12e19",
   "metadata": {},
   "outputs": [],
   "source": [
    "plt.figure(figsize = (25,18)) \n",
    "sns.heatmap(X.corr(),annot=True)"
   ]
  },
  {
   "cell_type": "code",
   "execution_count": null,
   "id": "d1dfe6a4",
   "metadata": {},
   "outputs": [],
   "source": [
    "##Since there is correlation between radius with perimeter,area,radius_worst,perimeter_worst,area_worst we will remove this column\n",
    "X=X.drop(['perimeter_mean','area_mean','radius_worst','perimeter_worst','area_worst'],axis=1)"
   ]
  },
  {
   "cell_type": "code",
   "execution_count": null,
   "id": "d19aae8a",
   "metadata": {},
   "outputs": [],
   "source": [
    "plt.figure(figsize = (25,18)) \n",
    "sns.heatmap(X.corr(),annot=True)"
   ]
  },
  {
   "cell_type": "code",
   "execution_count": null,
   "id": "47543eb4",
   "metadata": {},
   "outputs": [],
   "source": [
    "X=X.drop(['perimeter_se','area_se'],axis=1)"
   ]
  },
  {
   "cell_type": "code",
   "execution_count": null,
   "id": "0e4cc0c4",
   "metadata": {},
   "outputs": [],
   "source": [
    "plt.figure(figsize = (25,18)) \n",
    "sns.heatmap(X.corr(),annot=True)"
   ]
  },
  {
   "cell_type": "code",
   "execution_count": null,
   "id": "5f5ff4ec",
   "metadata": {},
   "outputs": [],
   "source": [
    "X.shape"
   ]
  },
  {
   "cell_type": "code",
   "execution_count": null,
   "id": "a225684b",
   "metadata": {},
   "outputs": [],
   "source": [
    "#Scaling the data\n",
    "from sklearn.preprocessing import StandardScaler\n",
    "sc=StandardScaler()"
   ]
  },
  {
   "cell_type": "code",
   "execution_count": null,
   "id": "3ca79a5f",
   "metadata": {},
   "outputs": [],
   "source": [
    "X=sc.fit_transform(X)"
   ]
  },
  {
   "cell_type": "code",
   "execution_count": null,
   "id": "587cbada",
   "metadata": {},
   "outputs": [],
   "source": [
    "#Train test split\n",
    "from sklearn.model_selection import train_test_split\n",
    "x_train,x_test,y_train,y_test=train_test_split(X,Y,test_size=0.3,random_state=2)"
   ]
  },
  {
   "cell_type": "code",
   "execution_count": null,
   "id": "7a3ad742",
   "metadata": {},
   "outputs": [],
   "source": [
    "from sklearn.linear_model import LogisticRegression\n",
    "lr=LogisticRegression()\n",
    "lr.fit(x_train,y_train)"
   ]
  },
  {
   "cell_type": "code",
   "execution_count": null,
   "id": "c9bbff75",
   "metadata": {},
   "outputs": [],
   "source": [
    "y_pred=lr.predict(x_test)"
   ]
  },
  {
   "cell_type": "code",
   "execution_count": null,
   "id": "2f82bb05",
   "metadata": {},
   "outputs": [],
   "source": [
    "from sklearn.metrics import confusion_matrix,accuracy_score,ConfusionMatrixDisplay\n",
    "cm=confusion_matrix(y_test,y_pred)\n",
    "cm"
   ]
  },
  {
   "cell_type": "code",
   "execution_count": null,
   "id": "c238a5c5",
   "metadata": {},
   "outputs": [],
   "source": [
    "accuracy_score(y_test,y_pred)"
   ]
  },
  {
   "cell_type": "code",
   "execution_count": null,
   "id": "dcac1440",
   "metadata": {},
   "outputs": [],
   "source": [
    "ConfusionMatrixDisplay(cm).plot()"
   ]
  },
  {
   "cell_type": "code",
   "execution_count": null,
   "id": "18ddf455",
   "metadata": {},
   "outputs": [],
   "source": [
    "import pickle \n",
    "pickle.dump(lr,open('breast_cancer.pkl','wb'))"
   ]
  },
  {
   "cell_type": "code",
   "execution_count": null,
   "id": "2800a8a7",
   "metadata": {},
   "outputs": [],
   "source": [
    "model=pickle.load(open('breast_cancer.pkl','rb'))"
   ]
  },
  {
   "cell_type": "code",
   "execution_count": null,
   "id": "831b103d",
   "metadata": {},
   "outputs": [],
   "source": [
    "model.pr"
   ]
  },
  {
   "cell_type": "code",
   "execution_count": null,
   "id": "10ad1d2b",
   "metadata": {},
   "outputs": [],
   "source": []
  }
 ],
 "metadata": {
  "kernelspec": {
   "display_name": "Python 3",
   "language": "python",
   "name": "python3"
  },
  "language_info": {
   "codemirror_mode": {
    "name": "ipython",
    "version": 3
   },
   "file_extension": ".py",
   "mimetype": "text/x-python",
   "name": "python",
   "nbconvert_exporter": "python",
   "pygments_lexer": "ipython3",
   "version": "3.8.8"
  }
 },
 "nbformat": 4,
 "nbformat_minor": 5
}
